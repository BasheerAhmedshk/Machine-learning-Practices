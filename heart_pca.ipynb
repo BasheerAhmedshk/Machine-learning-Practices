{
 "cells": [
  {
   "cell_type": "markdown",
   "id": "7248e030",
   "metadata": {},
   "source": [
    "# About the dataset\n",
    "\n",
    "The dataset contains 14 features and 1 target variable. The target variable is a binary variable that indicates whether a patient has heart disease or not. The features are as follows:\n",
    "\n",
    "1. age: age in years\n",
    "2. sex: (1 = male; 0 = female)\n",
    "3. cp: chest pain type\n",
    "4. trestbps: resting blood pressure (in mm Hg on admission to the hospital)\n",
    "5. chol: serum cholestoral in mg/dl\n",
    "6. fbs: (fasting blood sugar > 120 mg/dl) (1 = true; 0 = false)\n",
    "7. restecg: resting electrocardiographic results\n",
    "8. MaxHR: maximum heart rate achieved\n",
    "9. exang: exercise induced angina (1 = yes; 0 = no)\n",
    "10. oldpeak: ST depression induced by exercise relative to rest\n",
    "11. slope: the slope of the peak exercise ST segment\n",
    "12. ca: number of major vessels (0-3) colored by flourosopy\n",
    "13. thal: 3 = normal; 6 = fixed defect; 7 = reversable defect\n",
    "14. AHD: presence of heart disease in the patient (1 = yes; 0 = no)"
   ]
  },
  {
   "cell_type": "code",
   "execution_count": null,
   "id": "c8fe526a",
   "metadata": {},
   "outputs": [],
   "source": [
    "# Heart Disease Classification with Outlier Removal, Encoding, Scaling, and PCA"
   ]
  },
  {
   "cell_type": "code",
   "execution_count": null,
   "id": "63b11798",
   "metadata": {},
   "outputs": [],
   "source": [
    "import pandas as pd\n",
    "import numpy as np\n",
    "from scipy import stats\n",
    "from sklearn.preprocessing import LabelEncoder, StandardScaler\n",
    "from sklearn.model_selection import train_test_split\n",
    "from sklearn.svm import SVC\n",
    "from sklearn.linear_model import LogisticRegression\n",
    "from sklearn.ensemble import RandomForestClassifier\n",
    "from sklearn.metrics import accuracy_score\n",
    "from sklearn.decomposition import PCA\n",
    "import warnings\n",
    "warnings.filterwarnings('ignore')"
   ]
  },
  {
   "cell_type": "code",
   "execution_count": 3,
   "id": "7c2a079c",
   "metadata": {},
   "outputs": [],
   "source": [
    "# 1. Load and prepare the dataset\n",
    "\n",
    "df = pd.read_csv('heart.csv')\n",
    "df = df.drop('Unnamed: 0', axis=1)  # Drop the index column"
   ]
  },
  {
   "cell_type": "code",
   "execution_count": 4,
   "id": "d14e7c80",
   "metadata": {},
   "outputs": [
    {
     "name": "stdout",
     "output_type": "stream",
     "text": [
      "Original shape: (303, 14)\n",
      "Shape after removing outliers: (294, 14)\n"
     ]
    }
   ],
   "source": [
    "# 2. Remove outliers using Z score method\n",
    "numeric_cols = ['Age', 'RestBP', 'Chol', 'MaxHR', 'Oldpeak']\n",
    "z_scores = np.abs(stats.zscore(df[numeric_cols]))\n",
    "mask = (z_scores < 3).all(axis=1)\n",
    "df_clean = df[mask].reset_index(drop=True)\n",
    "print('Original shape:', df.shape)\n",
    "print('Shape after removing outliers:', df_clean.shape)"
   ]
  },
  {
   "cell_type": "code",
   "execution_count": 5,
   "id": "47b7bf65",
   "metadata": {},
   "outputs": [],
   "source": [
    "# 3. Encode categorical variables\n",
    "# For binary columns\n",
    "le = LabelEncoder()\n",
    "df_clean['Sex'] = le.fit_transform(df_clean['Sex'])\n",
    "df_clean['Fbs'] = le.fit_transform(df_clean['Fbs'])\n",
    "df_clean['ExAng'] = le.fit_transform(df_clean['ExAng'])\n",
    "\n",
    "df_clean['AHD'] = le.fit_transform(df_clean['AHD'])"
   ]
  },
  {
   "cell_type": "code",
   "execution_count": 6,
   "id": "21d2f2b9",
   "metadata": {},
   "outputs": [],
   "source": [
    "# One-hot encoding for multi-category columns\n",
    "categorical_cols = ['ChestPain', 'RestECG', 'Slope', 'Thal']\n",
    "df_encoded = pd.get_dummies(df_clean, columns=categorical_cols)\n"
   ]
  },
  {
   "cell_type": "code",
   "execution_count": 7,
   "id": "f475cd4e",
   "metadata": {},
   "outputs": [
    {
     "name": "stdout",
     "output_type": "stream",
     "text": [
      "Number of rows removed due to NaN after encoding: 4\n"
     ]
    }
   ],
   "source": [
    "# 3.1: Remove any rows with missing values\n",
    "initial_rows = df_encoded.shape[0]\n",
    "df_encoded = df_encoded.dropna()\n",
    "print('Number of rows removed due to NaN after encoding:', initial_rows - df_encoded.shape[0])"
   ]
  },
  {
   "cell_type": "code",
   "execution_count": 8,
   "id": "1ffe02e4",
   "metadata": {},
   "outputs": [],
   "source": [
    "# 4. Setup features and target\n",
    "X = df_encoded.drop('AHD', axis=1)\n",
    "y = df_encoded['AHD']"
   ]
  },
  {
   "cell_type": "code",
   "execution_count": 9,
   "id": "b8a956d2",
   "metadata": {},
   "outputs": [],
   "source": [
    "# Scaling\n",
    "scaler = StandardScaler()\n",
    "X_scaled = scaler.fit_transform(X)"
   ]
  },
  {
   "cell_type": "code",
   "execution_count": 10,
   "id": "dac485cb",
   "metadata": {},
   "outputs": [],
   "source": [
    "# Split data without PCA\n",
    "X_train, X_test, y_train, y_test = train_test_split(X_scaled, y, test_size=0.2, random_state=42)"
   ]
  },
  {
   "cell_type": "code",
   "execution_count": null,
   "id": "7dba575c",
   "metadata": {},
   "outputs": [
    {
     "name": "stdout",
     "output_type": "stream",
     "text": [
      "Model Accuracies without PCA:\n",
      "SVM: 0.7931\n",
      "Logistic Regression: 0.7931\n",
      "Random Forest: 0.7586\n",
      "Best model: SVM with accuracy: 0.7931\n"
     ]
    }
   ],
   "source": [
    "# 5. Train and evaluate models\n",
    "models = {\n",
    "    'SVM': SVC(random_state=42),\n",
    "    'Logistic Regression': LogisticRegression(random_state=42, max_iter=1000),\n",
    "    'Random Forest': RandomForestClassifier(random_state=42)\n",
    "}\n",
    "\n",
    "results = {}\n",
    "print('Model Accuracies without PCA:')\n",
    "for name, model in models.items():\n",
    "    model.fit(X_train, y_train)\n",
    "    y_pred = model.predict(X_test)\n",
    "    accuracy = accuracy_score(y_test, y_pred)\n",
    "    results[name] = accuracy\n",
    "    print(name + ': ' + str(round(accuracy, 4)))\n",
    "\n",
    "# Which is best model\n",
    "best_model_name = max(results, key=results.get)\n",
    "print('Best model: ' + best_model_name + ' with accuracy: ' + str(round(results[best_model_name], 4)))"
   ]
  },
  {
   "cell_type": "code",
   "execution_count": null,
   "id": "d9fad065",
   "metadata": {},
   "outputs": [
    {
     "name": "stdout",
     "output_type": "stream",
     "text": [
      "Number of components after PCA: 16 (original features: 22)\n"
     ]
    }
   ],
   "source": [
    "# Apply PCA on the scaled data\n",
    "pca = PCA(n_components=0.95)\n",
    "X_pca = pca.fit_transform(X_scaled)\n",
    "print('Number of components after PCA: ' + str(X_pca.shape[1]) + ' (original features: ' + str(X_scaled.shape[1]) + ')')\n",
    "\n",
    "# Split PCA-transformed data\n",
    "X_train_pca, X_test_pca, y_train_pca, y_test_pca = train_test_split(X_pca, y, test_size=0.2, random_state=42)\n",
    "\n",
    "# Train best model on PCA data\n",
    "best_model = models[best_model_name]\n",
    "best_model.fit(X_train_pca, y_train_pca)\n",
    "y_pred_pca = best_model.predict(X_test_pca)\n",
    "pca_accuracy = accuracy_score(y_test_pca, y_pred_pca)"
   ]
  },
  {
   "cell_type": "code",
   "execution_count": 14,
   "id": "f5994ab9",
   "metadata": {},
   "outputs": [
    {
     "name": "stdout",
     "output_type": "stream",
     "text": [
      "Best model (SVM) accuracy with PCA: 0.8103\n",
      "Accuracy difference after PCA: 0.0172\n"
     ]
    }
   ],
   "source": [
    "print('Best model (' + best_model_name + ') accuracy with PCA: ' + str(round(pca_accuracy, 4)))\n",
    "print('Accuracy difference after PCA: ' + str(round(pca_accuracy - results[best_model_name], 4)))"
   ]
  },
  {
   "cell_type": "code",
   "execution_count": null,
   "id": "c97135f8",
   "metadata": {},
   "outputs": [],
   "source": []
  }
 ],
 "metadata": {
  "kernelspec": {
   "display_name": "Python 3",
   "language": "python",
   "name": "python3"
  },
  "language_info": {
   "codemirror_mode": {
    "name": "ipython",
    "version": 3
   },
   "file_extension": ".py",
   "mimetype": "text/x-python",
   "name": "python",
   "nbconvert_exporter": "python",
   "pygments_lexer": "ipython3",
   "version": "3.13.3"
  }
 },
 "nbformat": 4,
 "nbformat_minor": 5
}
